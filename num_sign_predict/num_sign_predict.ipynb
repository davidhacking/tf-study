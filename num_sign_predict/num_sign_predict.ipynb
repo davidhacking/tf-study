{
 "cells": [
  {
   "cell_type": "code",
   "execution_count": 2,
   "metadata": {
    "collapsed": true
   },
   "outputs": [
    {
     "data": {
      "text/plain": "(100000, 2)"
     },
     "execution_count": 2,
     "metadata": {},
     "output_type": "execute_result"
    }
   ],
   "source": [
    "import pandas as pd\n",
    "\n",
    "data = pd.read_csv('./dataset.txt', sep=\" \", header=None)\n",
    "data.columns = [\"num\", \"sign\"]\n",
    "data.head(10)"
   ]
  },
  {
   "cell_type": "code",
   "execution_count": 9,
   "outputs": [
    {
     "name": "stderr",
     "output_type": "stream",
     "text": [
      "C:\\Users\\winnieshi\\AppData\\Local\\Temp\\ipykernel_22768\\2858537681.py:5: SettingWithCopyWarning: \n",
      "A value is trying to be set on a copy of a slice from a DataFrame\n",
      "\n",
      "See the caveats in the documentation: https://pandas.pydata.org/pandas-docs/stable/user_guide/indexing.html#returning-a-view-versus-a-copy\n",
      "  x_train.drop(['sign'], axis=1, inplace=True)\n",
      "C:\\Users\\winnieshi\\AppData\\Local\\Temp\\ipykernel_22768\\2858537681.py:9: SettingWithCopyWarning: \n",
      "A value is trying to be set on a copy of a slice from a DataFrame\n",
      "\n",
      "See the caveats in the documentation: https://pandas.pydata.org/pandas-docs/stable/user_guide/indexing.html#returning-a-view-versus-a-copy\n",
      "  x_test.drop(['sign'], axis=1, inplace=True)\n"
     ]
    },
    {
     "data": {
      "text/plain": "(         num\n 0      61244\n 1      39852\n 2      98205\n 3      12581\n 4     -84353\n ...      ...\n 69995 -52668\n 69996   6840\n 69997   9421\n 69998 -40876\n 69999 -23854\n \n [70000 rows x 1 columns],\n (70000, 1),\n 0        1\n 1        1\n 2        1\n 3        1\n 4        0\n         ..\n 69995    0\n 69996    1\n 69997    1\n 69998    0\n 69999    0\n Name: sign, Length: 70000, dtype: int64,\n          num\n 70000  98259\n 70001 -13020\n 70002 -35331\n 70003  32664\n 70004  -7335\n ...      ...\n 99995 -67816\n 99996  79232\n 99997   9165\n 99998  76931\n 99999 -60044\n \n [30000 rows x 1 columns],\n 70000    1\n 70001    0\n 70002    0\n 70003    1\n 70004    0\n         ..\n 99995    0\n 99996    1\n 99997    1\n 99998    1\n 99999    0\n Name: sign, Length: 30000, dtype: int64)"
     },
     "execution_count": 9,
     "metadata": {},
     "output_type": "execute_result"
    }
   ],
   "source": [
    "train_num_rate = 0.7\n",
    "split_index = int(train_num_rate * data.shape[0])\n",
    "x_train = data.iloc[0:split_index, :]\n",
    "y_train = x_train.sign\n",
    "x_train.drop(['sign'], axis=1, inplace=True)\n",
    "\n",
    "x_test = data.iloc[split_index:, :]\n",
    "y_test = x_test.sign\n",
    "x_test.drop(['sign'], axis=1, inplace=True)\n",
    "\n",
    "x_train, x_train.shape, y_train, x_test, y_test"
   ],
   "metadata": {
    "collapsed": false,
    "pycharm": {
     "name": "#%%\n"
    }
   }
  },
  {
   "cell_type": "code",
   "execution_count": 7,
   "outputs": [
    {
     "data": {
      "text/plain": "(array([[0.76798665]]), array([0.07450417]))"
     },
     "execution_count": 7,
     "metadata": {},
     "output_type": "execute_result"
    }
   ],
   "source": [
    "\n",
    "from sklearn.linear_model import LogisticRegression\n",
    "\n",
    "model = LogisticRegression()\n",
    "model.fit(x_train, y_train)\n",
    "model.coef_, model.intercept_"
   ],
   "metadata": {
    "collapsed": false,
    "pycharm": {
     "name": "#%%\n"
    }
   }
  },
  {
   "cell_type": "code",
   "execution_count": 6,
   "outputs": [
    {
     "data": {
      "text/plain": "1.0"
     },
     "execution_count": 6,
     "metadata": {},
     "output_type": "execute_result"
    }
   ],
   "source": [
    "from sklearn.metrics import accuracy_score\n",
    "accuracy_score(model.predict(x_test), y_test.values.reshape(-1, 1))"
   ],
   "metadata": {
    "collapsed": false,
    "pycharm": {
     "name": "#%%\n"
    }
   }
  },
  {
   "cell_type": "code",
   "execution_count": 10,
   "outputs": [
    {
     "name": "stderr",
     "output_type": "stream",
     "text": [
      "C:\\Users\\winnieshi\\AppData\\Local\\Programs\\Python\\Python310\\lib\\site-packages\\sklearn\\base.py:450: UserWarning: X does not have valid feature names, but LogisticRegression was fitted with feature names\n",
      "  warnings.warn(\n"
     ]
    },
    {
     "data": {
      "text/plain": "array([1, 1, 0, 0], dtype=int64)"
     },
     "execution_count": 10,
     "metadata": {},
     "output_type": "execute_result"
    }
   ],
   "source": [
    "import numpy as np\n",
    "my_test = [1, 2, -1, -2]\n",
    "my_test = np.array(my_test)\n",
    "my_test = my_test.reshape(-1, 1)\n",
    "model.predict(my_test)"
   ],
   "metadata": {
    "collapsed": false,
    "pycharm": {
     "name": "#%%\n"
    }
   }
  }
 ],
 "metadata": {
  "kernelspec": {
   "display_name": "Python 3",
   "language": "python",
   "name": "python3"
  },
  "language_info": {
   "codemirror_mode": {
    "name": "ipython",
    "version": 2
   },
   "file_extension": ".py",
   "mimetype": "text/x-python",
   "name": "python",
   "nbconvert_exporter": "python",
   "pygments_lexer": "ipython2",
   "version": "2.7.6"
  }
 },
 "nbformat": 4,
 "nbformat_minor": 0
}