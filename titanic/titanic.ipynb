{
 "cells": [
  {
   "cell_type": "code",
   "execution_count": 78,
   "metadata": {
    "collapsed": true
   },
   "outputs": [],
   "source": [
    "import pandas as pd\n",
    "import numpy as np\n",
    "import matplotlib.pyplot as plt\n",
    "import seaborn as sns"
   ]
  },
  {
   "cell_type": "code",
   "execution_count": 79,
   "outputs": [
    {
     "data": {
      "text/plain": "((891, 12), (418, 11))"
     },
     "execution_count": 79,
     "metadata": {},
     "output_type": "execute_result"
    }
   ],
   "source": [
    "# 数据预处理\n",
    "train = pd.read_csv('./train.csv')  #训练集\n",
    "test = pd.read_csv('./test.csv')  #测试集\n",
    "\n",
    "train.shape, test.shape"
   ],
   "metadata": {
    "collapsed": false,
    "pycharm": {
     "name": "#%%\n"
    }
   }
  },
  {
   "cell_type": "code",
   "execution_count": 80,
   "outputs": [
    {
     "data": {
      "text/plain": "   PassengerId  Survived  Pclass  \\\n0            1         0       3   \n1            2         1       1   \n2            3         1       3   \n3            4         1       1   \n4            5         0       3   \n\n                                                Name     Sex   Age  SibSp  \\\n0                            Braund, Mr. Owen Harris    male  22.0      1   \n1  Cumings, Mrs. John Bradley (Florence Briggs Th...  female  38.0      1   \n2                             Heikkinen, Miss. Laina  female  26.0      0   \n3       Futrelle, Mrs. Jacques Heath (Lily May Peel)  female  35.0      1   \n4                           Allen, Mr. William Henry    male  35.0      0   \n\n   Parch            Ticket     Fare Cabin Embarked  \n0      0         A/5 21171   7.2500   NaN        S  \n1      0          PC 17599  71.2833   C85        C  \n2      0  STON/O2. 3101282   7.9250   NaN        S  \n3      0            113803  53.1000  C123        S  \n4      0            373450   8.0500   NaN        S  ",
      "text/html": "<div>\n<style scoped>\n    .dataframe tbody tr th:only-of-type {\n        vertical-align: middle;\n    }\n\n    .dataframe tbody tr th {\n        vertical-align: top;\n    }\n\n    .dataframe thead th {\n        text-align: right;\n    }\n</style>\n<table border=\"1\" class=\"dataframe\">\n  <thead>\n    <tr style=\"text-align: right;\">\n      <th></th>\n      <th>PassengerId</th>\n      <th>Survived</th>\n      <th>Pclass</th>\n      <th>Name</th>\n      <th>Sex</th>\n      <th>Age</th>\n      <th>SibSp</th>\n      <th>Parch</th>\n      <th>Ticket</th>\n      <th>Fare</th>\n      <th>Cabin</th>\n      <th>Embarked</th>\n    </tr>\n  </thead>\n  <tbody>\n    <tr>\n      <th>0</th>\n      <td>1</td>\n      <td>0</td>\n      <td>3</td>\n      <td>Braund, Mr. Owen Harris</td>\n      <td>male</td>\n      <td>22.0</td>\n      <td>1</td>\n      <td>0</td>\n      <td>A/5 21171</td>\n      <td>7.2500</td>\n      <td>NaN</td>\n      <td>S</td>\n    </tr>\n    <tr>\n      <th>1</th>\n      <td>2</td>\n      <td>1</td>\n      <td>1</td>\n      <td>Cumings, Mrs. John Bradley (Florence Briggs Th...</td>\n      <td>female</td>\n      <td>38.0</td>\n      <td>1</td>\n      <td>0</td>\n      <td>PC 17599</td>\n      <td>71.2833</td>\n      <td>C85</td>\n      <td>C</td>\n    </tr>\n    <tr>\n      <th>2</th>\n      <td>3</td>\n      <td>1</td>\n      <td>3</td>\n      <td>Heikkinen, Miss. Laina</td>\n      <td>female</td>\n      <td>26.0</td>\n      <td>0</td>\n      <td>0</td>\n      <td>STON/O2. 3101282</td>\n      <td>7.9250</td>\n      <td>NaN</td>\n      <td>S</td>\n    </tr>\n    <tr>\n      <th>3</th>\n      <td>4</td>\n      <td>1</td>\n      <td>1</td>\n      <td>Futrelle, Mrs. Jacques Heath (Lily May Peel)</td>\n      <td>female</td>\n      <td>35.0</td>\n      <td>1</td>\n      <td>0</td>\n      <td>113803</td>\n      <td>53.1000</td>\n      <td>C123</td>\n      <td>S</td>\n    </tr>\n    <tr>\n      <th>4</th>\n      <td>5</td>\n      <td>0</td>\n      <td>3</td>\n      <td>Allen, Mr. William Henry</td>\n      <td>male</td>\n      <td>35.0</td>\n      <td>0</td>\n      <td>0</td>\n      <td>373450</td>\n      <td>8.0500</td>\n      <td>NaN</td>\n      <td>S</td>\n    </tr>\n  </tbody>\n</table>\n</div>"
     },
     "execution_count": 80,
     "metadata": {},
     "output_type": "execute_result"
    }
   ],
   "source": [
    "train.head()"
   ],
   "metadata": {
    "collapsed": false,
    "pycharm": {
     "name": "#%%\n"
    }
   }
  },
  {
   "cell_type": "code",
   "execution_count": 81,
   "outputs": [
    {
     "name": "stdout",
     "output_type": "stream",
     "text": [
      "<class 'pandas.core.frame.DataFrame'>\n",
      "RangeIndex: 891 entries, 0 to 890\n",
      "Data columns (total 12 columns):\n",
      " #   Column       Non-Null Count  Dtype  \n",
      "---  ------       --------------  -----  \n",
      " 0   PassengerId  891 non-null    int64  \n",
      " 1   Survived     891 non-null    int64  \n",
      " 2   Pclass       891 non-null    int64  \n",
      " 3   Name         891 non-null    object \n",
      " 4   Sex          891 non-null    object \n",
      " 5   Age          714 non-null    float64\n",
      " 6   SibSp        891 non-null    int64  \n",
      " 7   Parch        891 non-null    int64  \n",
      " 8   Ticket       891 non-null    object \n",
      " 9   Fare         891 non-null    float64\n",
      " 10  Cabin        204 non-null    object \n",
      " 11  Embarked     889 non-null    object \n",
      "dtypes: float64(2), int64(5), object(5)\n",
      "memory usage: 83.7+ KB\n"
     ]
    }
   ],
   "source": [
    "train.info()"
   ],
   "metadata": {
    "collapsed": false,
    "pycharm": {
     "name": "#%%\n"
    }
   }
  },
  {
   "cell_type": "code",
   "execution_count": 82,
   "outputs": [
    {
     "name": "stderr",
     "output_type": "stream",
     "text": [
      "/var/folders/z3/35dch6f55ljb9p9mlp9ybnsw0000gn/T/ipykernel_76722/1188491635.py:1: FutureWarning: The frame.append method is deprecated and will be removed from pandas in a future version. Use pandas.concat instead.\n",
      "  dataset = train.append(test, sort=False)  #合并后的数据，方便一起清洗\n"
     ]
    },
    {
     "data": {
      "text/plain": "     PassengerId  Survived  Pclass                          Name     Sex  \\\n413         1305       NaN       3            Spector, Mr. Woolf    male   \n414         1306       NaN       1  Oliva y Ocana, Dona. Fermina  female   \n415         1307       NaN       3  Saether, Mr. Simon Sivertsen    male   \n416         1308       NaN       3           Ware, Mr. Frederick    male   \n417         1309       NaN       3      Peter, Master. Michael J    male   \n\n      Age  SibSp  Parch              Ticket      Fare Cabin Embarked  \n413   NaN      0      0           A.5. 3236    8.0500   NaN        S  \n414  39.0      0      0            PC 17758  108.9000  C105        C  \n415  38.5      0      0  SOTON/O.Q. 3101262    7.2500   NaN        S  \n416   NaN      0      0              359309    8.0500   NaN        S  \n417   NaN      1      1                2668   22.3583   NaN        C  ",
      "text/html": "<div>\n<style scoped>\n    .dataframe tbody tr th:only-of-type {\n        vertical-align: middle;\n    }\n\n    .dataframe tbody tr th {\n        vertical-align: top;\n    }\n\n    .dataframe thead th {\n        text-align: right;\n    }\n</style>\n<table border=\"1\" class=\"dataframe\">\n  <thead>\n    <tr style=\"text-align: right;\">\n      <th></th>\n      <th>PassengerId</th>\n      <th>Survived</th>\n      <th>Pclass</th>\n      <th>Name</th>\n      <th>Sex</th>\n      <th>Age</th>\n      <th>SibSp</th>\n      <th>Parch</th>\n      <th>Ticket</th>\n      <th>Fare</th>\n      <th>Cabin</th>\n      <th>Embarked</th>\n    </tr>\n  </thead>\n  <tbody>\n    <tr>\n      <th>413</th>\n      <td>1305</td>\n      <td>NaN</td>\n      <td>3</td>\n      <td>Spector, Mr. Woolf</td>\n      <td>male</td>\n      <td>NaN</td>\n      <td>0</td>\n      <td>0</td>\n      <td>A.5. 3236</td>\n      <td>8.0500</td>\n      <td>NaN</td>\n      <td>S</td>\n    </tr>\n    <tr>\n      <th>414</th>\n      <td>1306</td>\n      <td>NaN</td>\n      <td>1</td>\n      <td>Oliva y Ocana, Dona. Fermina</td>\n      <td>female</td>\n      <td>39.0</td>\n      <td>0</td>\n      <td>0</td>\n      <td>PC 17758</td>\n      <td>108.9000</td>\n      <td>C105</td>\n      <td>C</td>\n    </tr>\n    <tr>\n      <th>415</th>\n      <td>1307</td>\n      <td>NaN</td>\n      <td>3</td>\n      <td>Saether, Mr. Simon Sivertsen</td>\n      <td>male</td>\n      <td>38.5</td>\n      <td>0</td>\n      <td>0</td>\n      <td>SOTON/O.Q. 3101262</td>\n      <td>7.2500</td>\n      <td>NaN</td>\n      <td>S</td>\n    </tr>\n    <tr>\n      <th>416</th>\n      <td>1308</td>\n      <td>NaN</td>\n      <td>3</td>\n      <td>Ware, Mr. Frederick</td>\n      <td>male</td>\n      <td>NaN</td>\n      <td>0</td>\n      <td>0</td>\n      <td>359309</td>\n      <td>8.0500</td>\n      <td>NaN</td>\n      <td>S</td>\n    </tr>\n    <tr>\n      <th>417</th>\n      <td>1309</td>\n      <td>NaN</td>\n      <td>3</td>\n      <td>Peter, Master. Michael J</td>\n      <td>male</td>\n      <td>NaN</td>\n      <td>1</td>\n      <td>1</td>\n      <td>2668</td>\n      <td>22.3583</td>\n      <td>NaN</td>\n      <td>C</td>\n    </tr>\n  </tbody>\n</table>\n</div>"
     },
     "execution_count": 82,
     "metadata": {},
     "output_type": "execute_result"
    }
   ],
   "source": [
    "dataset = train.append(test, sort=False)  #合并后的数据，方便一起清洗\n",
    "dataset.tail()"
   ],
   "metadata": {
    "collapsed": false,
    "pycharm": {
     "name": "#%%\n"
    }
   }
  },
  {
   "cell_type": "code",
   "execution_count": 83,
   "outputs": [
    {
     "data": {
      "text/plain": "<BarContainer object of 98 artists>"
     },
     "execution_count": 83,
     "metadata": {},
     "output_type": "execute_result"
    },
    {
     "data": {
      "text/plain": "<Figure size 432x288 with 1 Axes>",
      "image/png": "[encoded data removed]"
     },
     "metadata": {
      "needs_background": "light"
     },
     "output_type": "display_data"
    }
   ],
   "source": [
    "age = dataset.Age.value_counts()\n",
    "plt.bar(age.index, age.values)"
   ],
   "metadata": {
    "collapsed": false,
    "pycharm": {
     "name": "#%%\n"
    }
   }
  },
  {
   "cell_type": "code",
   "execution_count": 84,
   "outputs": [
    {
     "data": {
      "text/plain": "<BarContainer object of 99 artists>"
     },
     "execution_count": 84,
     "metadata": {},
     "output_type": "execute_result"
    },
    {
     "data": {
      "text/plain": "<Figure size 432x288 with 1 Axes>",
      "image/png": "[encoded data removed]"
     },
     "metadata": {
      "needs_background": "light"
     },
     "output_type": "display_data"
    }
   ],
   "source": [
    "dataset.Age = dataset.Age.fillna(dataset.Age.mean())\n",
    "\n",
    "age = dataset.Age.value_counts()\n",
    "plt.bar(age.index,age.values)"
   ],
   "metadata": {
    "collapsed": false,
    "pycharm": {
     "name": "#%%\n"
    }
   }
  },
  {
   "cell_type": "code",
   "execution_count": 85,
   "outputs": [
    {
     "data": {
      "text/plain": "<BarContainer object of 186 artists>"
     },
     "execution_count": 85,
     "metadata": {},
     "output_type": "execute_result"
    },
    {
     "data": {
      "text/plain": "<Figure size 432x288 with 1 Axes>",
      "image/png": "[encoded data removed]"
     },
     "metadata": {
      "needs_background": "light"
     },
     "output_type": "display_data"
    }
   ],
   "source": [
    "cabin = dataset.Cabin.value_counts()\n",
    "plt.bar(cabin.index,cabin.values)"
   ],
   "metadata": {
    "collapsed": false,
    "pycharm": {
     "name": "#%%\n"
    }
   }
  },
  {
   "cell_type": "code",
   "execution_count": 86,
   "outputs": [
    {
     "data": {
      "text/plain": "<BarContainer object of 9 artists>"
     },
     "execution_count": 86,
     "metadata": {},
     "output_type": "execute_result"
    },
    {
     "data": {
      "text/plain": "<Figure size 432x288 with 1 Axes>",
      "image/png": "[encoded data removed]"
     },
     "metadata": {
      "needs_background": "light"
     },
     "output_type": "display_data"
    }
   ],
   "source": [
    "dataset.Cabin = dataset.Cabin.fillna('U') ## 先填充，否则apply无法处理N/A\n",
    "dataset.Cabin=dataset.Cabin.apply(lambda x: x[0])\n",
    "\n",
    "## 检查一下\n",
    "cabin = dataset.Cabin.value_counts()\n",
    "plt.bar(cabin.index,cabin.values)"
   ],
   "metadata": {
    "collapsed": false,
    "pycharm": {
     "name": "#%%\n"
    }
   }
  },
  {
   "cell_type": "code",
   "execution_count": 87,
   "outputs": [
    {
     "data": {
      "text/plain": "<BarContainer object of 3 artists>"
     },
     "execution_count": 87,
     "metadata": {},
     "output_type": "execute_result"
    },
    {
     "data": {
      "text/plain": "<Figure size 432x288 with 1 Axes>",
      "image/png": "[encoded data removed]"
     },
     "metadata": {
      "needs_background": "light"
     },
     "output_type": "display_data"
    }
   ],
   "source": [
    "embarked = dataset.Embarked.value_counts()\n",
    "plt.bar(embarked.index,embarked.values)"
   ],
   "metadata": {
    "collapsed": false,
    "pycharm": {
     "name": "#%%\n"
    }
   }
  },
  {
   "cell_type": "code",
   "execution_count": 88,
   "outputs": [
    {
     "data": {
      "text/plain": "<BarContainer object of 3 artists>"
     },
     "execution_count": 88,
     "metadata": {},
     "output_type": "execute_result"
    },
    {
     "data": {
      "text/plain": "<Figure size 432x288 with 1 Axes>",
      "image/png": "[encoded data removed]"
     },
     "metadata": {
      "needs_background": "light"
     },
     "output_type": "display_data"
    }
   ],
   "source": [
    "dataset.Embarked = dataset.Embarked.fillna('S')\n",
    "embarked = dataset.Embarked.value_counts()\n",
    "plt.bar(embarked.index,embarked.values)"
   ],
   "metadata": {
    "collapsed": false,
    "pycharm": {
     "name": "#%%\n"
    }
   }
  },
  {
   "cell_type": "code",
   "execution_count": 89,
   "outputs": [
    {
     "data": {
      "text/plain": "<BarContainer object of 281 artists>"
     },
     "execution_count": 89,
     "metadata": {},
     "output_type": "execute_result"
    },
    {
     "data": {
      "text/plain": "<Figure size 432x288 with 1 Axes>",
      "image/png": "[encoded data removed]"
     },
     "metadata": {
      "needs_background": "light"
     },
     "output_type": "display_data"
    }
   ],
   "source": [
    "fare = dataset.Fare.value_counts()\n",
    "plt.bar(fare.index,fare.values)"
   ],
   "metadata": {
    "collapsed": false,
    "pycharm": {
     "name": "#%%\n"
    }
   }
  },
  {
   "cell_type": "code",
   "execution_count": 90,
   "outputs": [
    {
     "data": {
      "text/plain": "<BarContainer object of 282 artists>"
     },
     "execution_count": 90,
     "metadata": {},
     "output_type": "execute_result"
    },
    {
     "data": {
      "text/plain": "<Figure size 432x288 with 1 Axes>",
      "image/png": "[encoded data removed]"
     },
     "metadata": {
      "needs_background": "light"
     },
     "output_type": "display_data"
    }
   ],
   "source": [
    "dataset.Fare = dataset.Fare.fillna(dataset.Fare.mean())\n",
    "fare = dataset.Fare.value_counts()\n",
    "plt.bar(fare.index,fare.values)"
   ],
   "metadata": {
    "collapsed": false,
    "pycharm": {
     "name": "#%%\n"
    }
   }
  },
  {
   "cell_type": "code",
   "execution_count": 91,
   "outputs": [],
   "source": [
    "# 数据分析与特征构造\n",
    "sexdict = {'male':1, 'female':0}\n",
    "dataset.Sex = dataset.Sex.map(sexdict)"
   ],
   "metadata": {
    "collapsed": false,
    "pycharm": {
     "name": "#%%\n"
    }
   }
  },
  {
   "cell_type": "code",
   "execution_count": 92,
   "outputs": [
    {
     "data": {
      "text/plain": "   PassengerId  Survived  Pclass                     Name  Sex   Age  SibSp  \\\n0            1       0.0       3  Braund, Mr. Owen Harris    1  22.0      1   \n\n   Parch     Ticket  Fare Cabin  Embarked_C  Embarked_Q  Embarked_S  \n0      0  A/5 21171  7.25     U           0           0           1  ",
      "text/html": "<div>\n<style scoped>\n    .dataframe tbody tr th:only-of-type {\n        vertical-align: middle;\n    }\n\n    .dataframe tbody tr th {\n        vertical-align: top;\n    }\n\n    .dataframe thead th {\n        text-align: right;\n    }\n</style>\n<table border=\"1\" class=\"dataframe\">\n  <thead>\n    <tr style=\"text-align: right;\">\n      <th></th>\n      <th>PassengerId</th>\n      <th>Survived</th>\n      <th>Pclass</th>\n      <th>Name</th>\n      <th>Sex</th>\n      <th>Age</th>\n      <th>SibSp</th>\n      <th>Parch</th>\n      <th>Ticket</th>\n      <th>Fare</th>\n      <th>Cabin</th>\n      <th>Embarked_C</th>\n      <th>Embarked_Q</th>\n      <th>Embarked_S</th>\n    </tr>\n  </thead>\n  <tbody>\n    <tr>\n      <th>0</th>\n      <td>1</td>\n      <td>0.0</td>\n      <td>3</td>\n      <td>Braund, Mr. Owen Harris</td>\n      <td>1</td>\n      <td>22.0</td>\n      <td>1</td>\n      <td>0</td>\n      <td>A/5 21171</td>\n      <td>7.25</td>\n      <td>U</td>\n      <td>0</td>\n      <td>0</td>\n      <td>1</td>\n    </tr>\n  </tbody>\n</table>\n</div>"
     },
     "execution_count": 92,
     "metadata": {},
     "output_type": "execute_result"
    }
   ],
   "source": [
    "embarked2 = pd.get_dummies(dataset.Embarked, prefix = 'Embarked')\n",
    "\n",
    "dataset = pd.concat([dataset,embarked2], axis = 1) ## 将编码好的数据添加到原数据上\n",
    "dataset.drop(['Embarked'], axis = 1, inplace=True) ## 过河拆桥\n",
    "\n",
    "dataset.head(1)"
   ],
   "metadata": {
    "collapsed": false,
    "pycharm": {
     "name": "#%%\n"
    }
   }
  },
  {
   "cell_type": "code",
   "execution_count": 93,
   "outputs": [
    {
     "data": {
      "text/plain": "   PassengerId  Survived  Pclass                     Name  Sex   Age  SibSp  \\\n0            1       0.0       3  Braund, Mr. Owen Harris    1  22.0      1   \n\n   Parch     Ticket  Fare  ...  Embarked_S  Cabin_A  Cabin_B  Cabin_C  \\\n0      0  A/5 21171  7.25  ...           1        0        0        0   \n\n   Cabin_D  Cabin_E  Cabin_F  Cabin_G  Cabin_T  Cabin_U  \n0        0        0        0        0        0        1  \n\n[1 rows x 22 columns]",
      "text/html": "<div>\n<style scoped>\n    .dataframe tbody tr th:only-of-type {\n        vertical-align: middle;\n    }\n\n    .dataframe tbody tr th {\n        vertical-align: top;\n    }\n\n    .dataframe thead th {\n        text-align: right;\n    }\n</style>\n<table border=\"1\" class=\"dataframe\">\n  <thead>\n    <tr style=\"text-align: right;\">\n      <th></th>\n      <th>PassengerId</th>\n      <th>Survived</th>\n      <th>Pclass</th>\n      <th>Name</th>\n      <th>Sex</th>\n      <th>Age</th>\n      <th>SibSp</th>\n      <th>Parch</th>\n      <th>Ticket</th>\n      <th>Fare</th>\n      <th>...</th>\n      <th>Embarked_S</th>\n      <th>Cabin_A</th>\n      <th>Cabin_B</th>\n      <th>Cabin_C</th>\n      <th>Cabin_D</th>\n      <th>Cabin_E</th>\n      <th>Cabin_F</th>\n      <th>Cabin_G</th>\n      <th>Cabin_T</th>\n      <th>Cabin_U</th>\n    </tr>\n  </thead>\n  <tbody>\n    <tr>\n      <th>0</th>\n      <td>1</td>\n      <td>0.0</td>\n      <td>3</td>\n      <td>Braund, Mr. Owen Harris</td>\n      <td>1</td>\n      <td>22.0</td>\n      <td>1</td>\n      <td>0</td>\n      <td>A/5 21171</td>\n      <td>7.25</td>\n      <td>...</td>\n      <td>1</td>\n      <td>0</td>\n      <td>0</td>\n      <td>0</td>\n      <td>0</td>\n      <td>0</td>\n      <td>0</td>\n      <td>0</td>\n      <td>0</td>\n      <td>1</td>\n    </tr>\n  </tbody>\n</table>\n<p>1 rows × 22 columns</p>\n</div>"
     },
     "execution_count": 93,
     "metadata": {},
     "output_type": "execute_result"
    }
   ],
   "source": [
    "cabin2 = pd.get_dummies(dataset.Cabin, prefix = 'Cabin')\n",
    "\n",
    "dataset = pd.concat([dataset,cabin2], axis = 1)\n",
    "dataset.drop(['Cabin'], axis = 1, inplace=True)\n",
    "\n",
    "dataset.head(1)"
   ],
   "metadata": {
    "collapsed": false,
    "pycharm": {
     "name": "#%%\n"
    }
   }
  },
  {
   "cell_type": "code",
   "execution_count": 94,
   "outputs": [
    {
     "data": {
      "text/plain": "   PassengerId  Survived                     Name  Sex   Age  SibSp  Parch  \\\n0            1       0.0  Braund, Mr. Owen Harris    1  22.0      1      0   \n\n      Ticket  Fare  Embarked_C  ...  Cabin_C  Cabin_D  Cabin_E  Cabin_F  \\\n0  A/5 21171  7.25           0  ...        0        0        0        0   \n\n   Cabin_G  Cabin_T  Cabin_U  Pclass_1  Pclass_2  Pclass_3  \n0        0        0        1         0         0         1  \n\n[1 rows x 24 columns]",
      "text/html": "<div>\n<style scoped>\n    .dataframe tbody tr th:only-of-type {\n        vertical-align: middle;\n    }\n\n    .dataframe tbody tr th {\n        vertical-align: top;\n    }\n\n    .dataframe thead th {\n        text-align: right;\n    }\n</style>\n<table border=\"1\" class=\"dataframe\">\n  <thead>\n    <tr style=\"text-align: right;\">\n      <th></th>\n      <th>PassengerId</th>\n      <th>Survived</th>\n      <th>Name</th>\n      <th>Sex</th>\n      <th>Age</th>\n      <th>SibSp</th>\n      <th>Parch</th>\n      <th>Ticket</th>\n      <th>Fare</th>\n      <th>Embarked_C</th>\n      <th>...</th>\n      <th>Cabin_C</th>\n      <th>Cabin_D</th>\n      <th>Cabin_E</th>\n      <th>Cabin_F</th>\n      <th>Cabin_G</th>\n      <th>Cabin_T</th>\n      <th>Cabin_U</th>\n      <th>Pclass_1</th>\n      <th>Pclass_2</th>\n      <th>Pclass_3</th>\n    </tr>\n  </thead>\n  <tbody>\n    <tr>\n      <th>0</th>\n      <td>1</td>\n      <td>0.0</td>\n      <td>Braund, Mr. Owen Harris</td>\n      <td>1</td>\n      <td>22.0</td>\n      <td>1</td>\n      <td>0</td>\n      <td>A/5 21171</td>\n      <td>7.25</td>\n      <td>0</td>\n      <td>...</td>\n      <td>0</td>\n      <td>0</td>\n      <td>0</td>\n      <td>0</td>\n      <td>0</td>\n      <td>0</td>\n      <td>1</td>\n      <td>0</td>\n      <td>0</td>\n      <td>1</td>\n    </tr>\n  </tbody>\n</table>\n<p>1 rows × 24 columns</p>\n</div>"
     },
     "execution_count": 94,
     "metadata": {},
     "output_type": "execute_result"
    }
   ],
   "source": [
    "pclass = pd.get_dummies(dataset.Pclass, prefix = 'Pclass')\n",
    "\n",
    "dataset = pd.concat([dataset,pclass], axis = 1)\n",
    "dataset.drop(['Pclass'], axis = 1, inplace=True)\n",
    "\n",
    "dataset.head(1)"
   ],
   "metadata": {
    "collapsed": false,
    "pycharm": {
     "name": "#%%\n"
    }
   }
  },
  {
   "cell_type": "code",
   "execution_count": 95,
   "outputs": [
    {
     "data": {
      "text/plain": "0           Mr\n1          Mrs\n2         Miss\n3          Mrs\n4           Mr\n        ...   \n413         Mr\n414    Royalty\n415         Mr\n416         Mr\n417     Master\nName: Name, Length: 1309, dtype: object"
     },
     "execution_count": 95,
     "metadata": {},
     "output_type": "execute_result"
    }
   ],
   "source": [
    "## 头衔映射表\n",
    "titleDict = {\n",
    "    \"Capt\":       \"Officer\",\n",
    "    \"Col\":        \"Officer\",\n",
    "    \"Major\":      \"Officer\",\n",
    "    \"Jonkheer\":   \"Royalty\",\n",
    "    \"Don\":        \"Royalty\",\n",
    "    \"Sir\" :       \"Royalty\",\n",
    "    \"Dr\":         \"Officer\",\n",
    "    \"Rev\":        \"Officer\",\n",
    "    \"the Countess\":\"Royalty\",\n",
    "    \"Dona\":       \"Royalty\",\n",
    "    \"Mme\":        \"Mrs\",\n",
    "    \"Mlle\":       \"Miss\",\n",
    "    \"Ms\":         \"Mrs\",\n",
    "    \"Mr\" :        \"Mr\",\n",
    "    \"Mrs\" :       \"Mrs\",\n",
    "    \"Miss\" :      \"Miss\",\n",
    "    \"Master\" :    \"Master\",\n",
    "    \"Lady\" :      \"Royalty\"\n",
    "}\n",
    "dataset.Name = dataset.Name.apply(lambda x:x.split(',')[1].split('.')[0].strip())\n",
    "dataset.Name = dataset.Name.map(titleDict)\n",
    "dataset.Name"
   ],
   "metadata": {
    "collapsed": false,
    "pycharm": {
     "name": "#%%\n"
    }
   }
  },
  {
   "cell_type": "code",
   "execution_count": 96,
   "outputs": [
    {
     "data": {
      "text/plain": "   PassengerId  Survived  Sex   Age  SibSp  Parch     Ticket  Fare  \\\n0            1       0.0    1  22.0      1      0  A/5 21171  7.25   \n\n   Embarked_C  Embarked_Q  ...  Cabin_U  Pclass_1  Pclass_2  Pclass_3  \\\n0           0           0  ...        1         0         0         1   \n\n   title_Master  title_Miss  title_Mr  title_Mrs  title_Officer  title_Royalty  \n0             0           0         1          0              0              0  \n\n[1 rows x 29 columns]",
      "text/html": "<div>\n<style scoped>\n    .dataframe tbody tr th:only-of-type {\n        vertical-align: middle;\n    }\n\n    .dataframe tbody tr th {\n        vertical-align: top;\n    }\n\n    .dataframe thead th {\n        text-align: right;\n    }\n</style>\n<table border=\"1\" class=\"dataframe\">\n  <thead>\n    <tr style=\"text-align: right;\">\n      <th></th>\n      <th>PassengerId</th>\n      <th>Survived</th>\n      <th>Sex</th>\n      <th>Age</th>\n      <th>SibSp</th>\n      <th>Parch</th>\n      <th>Ticket</th>\n      <th>Fare</th>\n      <th>Embarked_C</th>\n      <th>Embarked_Q</th>\n      <th>...</th>\n      <th>Cabin_U</th>\n      <th>Pclass_1</th>\n      <th>Pclass_2</th>\n      <th>Pclass_3</th>\n      <th>title_Master</th>\n      <th>title_Miss</th>\n      <th>title_Mr</th>\n      <th>title_Mrs</th>\n      <th>title_Officer</th>\n      <th>title_Royalty</th>\n    </tr>\n  </thead>\n  <tbody>\n    <tr>\n      <th>0</th>\n      <td>1</td>\n      <td>0.0</td>\n      <td>1</td>\n      <td>22.0</td>\n      <td>1</td>\n      <td>0</td>\n      <td>A/5 21171</td>\n      <td>7.25</td>\n      <td>0</td>\n      <td>0</td>\n      <td>...</td>\n      <td>1</td>\n      <td>0</td>\n      <td>0</td>\n      <td>1</td>\n      <td>0</td>\n      <td>0</td>\n      <td>1</td>\n      <td>0</td>\n      <td>0</td>\n      <td>0</td>\n    </tr>\n  </tbody>\n</table>\n<p>1 rows × 29 columns</p>\n</div>"
     },
     "execution_count": 96,
     "metadata": {},
     "output_type": "execute_result"
    }
   ],
   "source": [
    "title = pd.get_dummies(dataset.Name, prefix = 'title')\n",
    "\n",
    "dataset = pd.concat([dataset,title], axis = 1) ## 将编码好的数据添加到原数据上\n",
    "dataset.drop(['Name'], axis = 1, inplace=True) ## 过河拆桥\n",
    "\n",
    "dataset.head(1)"
   ],
   "metadata": {
    "collapsed": false,
    "pycharm": {
     "name": "#%%\n"
    }
   }
  },
  {
   "cell_type": "code",
   "execution_count": 97,
   "outputs": [
    {
     "data": {
      "text/plain": "   PassengerId  Survived  Sex   Age  SibSp  Parch     Ticket  Fare  \\\n0            1       0.0    1  22.0      1      0  A/5 21171  7.25   \n\n   Embarked_C  Embarked_Q  ...  Pclass_1  Pclass_2  Pclass_3  title_Master  \\\n0           0           0  ...         0         0         1             0   \n\n   title_Miss  title_Mr  title_Mrs  title_Officer  title_Royalty  family  \n0           0         1          0              0              0       2  \n\n[1 rows x 30 columns]",
      "text/html": "<div>\n<style scoped>\n    .dataframe tbody tr th:only-of-type {\n        vertical-align: middle;\n    }\n\n    .dataframe tbody tr th {\n        vertical-align: top;\n    }\n\n    .dataframe thead th {\n        text-align: right;\n    }\n</style>\n<table border=\"1\" class=\"dataframe\">\n  <thead>\n    <tr style=\"text-align: right;\">\n      <th></th>\n      <th>PassengerId</th>\n      <th>Survived</th>\n      <th>Sex</th>\n      <th>Age</th>\n      <th>SibSp</th>\n      <th>Parch</th>\n      <th>Ticket</th>\n      <th>Fare</th>\n      <th>Embarked_C</th>\n      <th>Embarked_Q</th>\n      <th>...</th>\n      <th>Pclass_1</th>\n      <th>Pclass_2</th>\n      <th>Pclass_3</th>\n      <th>title_Master</th>\n      <th>title_Miss</th>\n      <th>title_Mr</th>\n      <th>title_Mrs</th>\n      <th>title_Officer</th>\n      <th>title_Royalty</th>\n      <th>family</th>\n    </tr>\n  </thead>\n  <tbody>\n    <tr>\n      <th>0</th>\n      <td>1</td>\n      <td>0.0</td>\n      <td>1</td>\n      <td>22.0</td>\n      <td>1</td>\n      <td>0</td>\n      <td>A/5 21171</td>\n      <td>7.25</td>\n      <td>0</td>\n      <td>0</td>\n      <td>...</td>\n      <td>0</td>\n      <td>0</td>\n      <td>1</td>\n      <td>0</td>\n      <td>0</td>\n      <td>1</td>\n      <td>0</td>\n      <td>0</td>\n      <td>0</td>\n      <td>2</td>\n    </tr>\n  </tbody>\n</table>\n<p>1 rows × 30 columns</p>\n</div>"
     },
     "execution_count": 97,
     "metadata": {},
     "output_type": "execute_result"
    }
   ],
   "source": [
    "dataset['family']=dataset.SibSp+dataset.Parch+1\n",
    "\n",
    "dataset.head(1)"
   ],
   "metadata": {
    "collapsed": false,
    "pycharm": {
     "name": "#%%\n"
    }
   }
  },
  {
   "cell_type": "code",
   "execution_count": 98,
   "outputs": [
    {
     "name": "stdout",
     "output_type": "stream",
     "text": [
      "<class 'pandas.core.frame.DataFrame'>\n",
      "Int64Index: 1309 entries, 0 to 417\n",
      "Data columns (total 29 columns):\n",
      " #   Column         Non-Null Count  Dtype  \n",
      "---  ------         --------------  -----  \n",
      " 0   PassengerId    1309 non-null   int64  \n",
      " 1   Survived       891 non-null    float64\n",
      " 2   Sex            1309 non-null   int64  \n",
      " 3   Age            1309 non-null   float64\n",
      " 4   SibSp          1309 non-null   int64  \n",
      " 5   Parch          1309 non-null   int64  \n",
      " 6   Fare           1309 non-null   float64\n",
      " 7   Embarked_C     1309 non-null   uint8  \n",
      " 8   Embarked_Q     1309 non-null   uint8  \n",
      " 9   Embarked_S     1309 non-null   uint8  \n",
      " 10  Cabin_A        1309 non-null   uint8  \n",
      " 11  Cabin_B        1309 non-null   uint8  \n",
      " 12  Cabin_C        1309 non-null   uint8  \n",
      " 13  Cabin_D        1309 non-null   uint8  \n",
      " 14  Cabin_E        1309 non-null   uint8  \n",
      " 15  Cabin_F        1309 non-null   uint8  \n",
      " 16  Cabin_G        1309 non-null   uint8  \n",
      " 17  Cabin_T        1309 non-null   uint8  \n",
      " 18  Cabin_U        1309 non-null   uint8  \n",
      " 19  Pclass_1       1309 non-null   uint8  \n",
      " 20  Pclass_2       1309 non-null   uint8  \n",
      " 21  Pclass_3       1309 non-null   uint8  \n",
      " 22  title_Master   1309 non-null   uint8  \n",
      " 23  title_Miss     1309 non-null   uint8  \n",
      " 24  title_Mr       1309 non-null   uint8  \n",
      " 25  title_Mrs      1309 non-null   uint8  \n",
      " 26  title_Officer  1309 non-null   uint8  \n",
      " 27  title_Royalty  1309 non-null   uint8  \n",
      " 28  family         1309 non-null   int64  \n",
      "dtypes: float64(3), int64(5), uint8(21)\n",
      "memory usage: 118.9 KB\n"
     ]
    }
   ],
   "source": [
    "dataset.drop(['Ticket'], axis = 1, inplace=True)\n",
    "\n",
    "dataset.info()"
   ],
   "metadata": {
    "collapsed": false,
    "pycharm": {
     "name": "#%%\n"
    }
   }
  },
  {
   "cell_type": "code",
   "execution_count": 99,
   "outputs": [
    {
     "name": "stderr",
     "output_type": "stream",
     "text": [
      "/var/folders/z3/35dch6f55ljb9p9mlp9ybnsw0000gn/T/ipykernel_76722/3854607562.py:3: SettingWithCopyWarning: \n",
      "A value is trying to be set on a copy of a slice from a DataFrame\n",
      "\n",
      "See the caveats in the documentation: https://pandas.pydata.org/pandas-docs/stable/user_guide/indexing.html#returning-a-view-versus-a-copy\n",
      "  x_train.drop(['Survived'], axis=1, inplace =True)\n",
      "/var/folders/z3/35dch6f55ljb9p9mlp9ybnsw0000gn/T/ipykernel_76722/3854607562.py:6: SettingWithCopyWarning: \n",
      "A value is trying to be set on a copy of a slice from a DataFrame\n",
      "\n",
      "See the caveats in the documentation: https://pandas.pydata.org/pandas-docs/stable/user_guide/indexing.html#returning-a-view-versus-a-copy\n",
      "  x_test.drop(['Survived'], axis=1, inplace =True)\n"
     ]
    },
    {
     "data": {
      "text/plain": "((891, 28), (891,), (418, 28), (418, 2))"
     },
     "execution_count": 99,
     "metadata": {},
     "output_type": "execute_result"
    }
   ],
   "source": [
    "x_train = dataset.iloc[0:891, :]\n",
    "y_train = x_train.Survived\n",
    "x_train.drop(['Survived'], axis=1, inplace =True)\n",
    "\n",
    "x_test = dataset.iloc[891:, :]\n",
    "x_test.drop(['Survived'], axis=1, inplace =True)\n",
    "\n",
    "y_test = pd.read_csv('./ground_truth.csv')#测试集\n",
    "y_test=np.squeeze(y_test)\n",
    "\n",
    "x_train.shape,y_train.shape,x_test.shape, y_test.shape"
   ],
   "metadata": {
    "collapsed": false,
    "pycharm": {
     "name": "#%%\n"
    }
   }
  },
  {
   "cell_type": "code",
   "execution_count": 100,
   "outputs": [
    {
     "data": {
      "text/plain": "               PassengerId  Survived       Sex       Age     SibSp     Parch  \\\nPassengerId       1.000000 -0.005007  0.013406  0.025731 -0.055224  0.008942   \nSurvived         -0.005007  1.000000 -0.543351 -0.070323 -0.035322  0.081629   \nSex               0.013406 -0.543351  1.000000  0.057397 -0.109609 -0.213125   \nAge               0.025731 -0.070323  0.057397  1.000000 -0.190747 -0.130872   \nSibSp            -0.055224 -0.035322 -0.109609 -0.190747  1.000000  0.373587   \nParch             0.008942  0.081629 -0.213125 -0.130872  0.373587  1.000000   \nFare              0.031416  0.257307 -0.185484  0.171521  0.160224  0.221522   \nEmbarked_C        0.048101  0.168240 -0.066564  0.076179 -0.048396 -0.008635   \nEmbarked_Q        0.011585  0.003650 -0.088651 -0.012718 -0.048678 -0.100943   \nEmbarked_S       -0.049836 -0.149683  0.115193 -0.059153  0.073709  0.071881   \nCabin_A          -0.002831  0.022287  0.047561  0.125177 -0.039808 -0.030707   \nCabin_B           0.015895  0.175095 -0.094453  0.113458 -0.011569  0.073051   \nCabin_C           0.006092  0.114652 -0.077473  0.167993  0.048616  0.009601   \nCabin_D           0.000549  0.150716 -0.057396  0.132886 -0.015727 -0.027385   \nCabin_E          -0.008136  0.145321 -0.040340  0.106600 -0.027180  0.001084   \nCabin_F           0.000306  0.057935 -0.006655 -0.072644 -0.008619  0.020481   \nCabin_G          -0.045949  0.016040 -0.083285 -0.085977  0.006015  0.058325   \nCabin_T          -0.023049 -0.026456  0.020558  0.032461 -0.013247 -0.012304   \nCabin_U           0.000208 -0.316912  0.137396 -0.271918  0.009064 -0.036806   \nPclass_1          0.026495  0.285904 -0.107371  0.362587 -0.034256 -0.013033   \nPclass_2          0.022714  0.093349 -0.028862 -0.014193 -0.052419 -0.010057   \nPclass_3         -0.041544 -0.322308  0.116562 -0.302093  0.072610  0.019521   \ntitle_Master      0.002254  0.085221  0.164375 -0.363923  0.329171  0.253482   \ntitle_Miss       -0.050027  0.332795 -0.672819 -0.254146  0.077564  0.066473   \ntitle_Mr          0.014116 -0.549199  0.870678  0.165476 -0.243104 -0.304780   \ntitle_Mrs         0.033299  0.344935 -0.571176  0.198091  0.061643  0.213491   \ntitle_Officer     0.002231 -0.031316  0.087288  0.162818 -0.013813 -0.032631   \ntitle_Royalty     0.004400  0.033391 -0.020408  0.059466 -0.010787 -0.030197   \nfamily           -0.031437  0.016639 -0.188583 -0.196996  0.861952  0.792296   \n\n                   Fare  Embarked_C  Embarked_Q  Embarked_S  ...  Pclass_1  \\\nPassengerId    0.031416    0.048101    0.011585   -0.049836  ...  0.026495   \nSurvived       0.257307    0.168240    0.003650   -0.149683  ...  0.285904   \nSex           -0.185484   -0.066564   -0.088651    0.115193  ... -0.107371   \nAge            0.171521    0.076179   -0.012718   -0.059153  ...  0.362587   \nSibSp          0.160224   -0.048396   -0.048678    0.073709  ... -0.034256   \nParch          0.221522   -0.008635   -0.100943    0.071881  ... -0.013033   \nFare           1.000000    0.286241   -0.130054   -0.169894  ...  0.599956   \nEmbarked_C     0.286241    1.000000   -0.164166   -0.778262  ...  0.325722   \nEmbarked_Q    -0.130054   -0.164166    1.000000   -0.491656  ... -0.166101   \nEmbarked_S    -0.169894   -0.778262   -0.491656    1.000000  ... -0.181800   \nCabin_A        0.020094    0.094914   -0.042105   -0.056984  ...  0.228433   \nCabin_B        0.393743    0.161595   -0.073613   -0.095790  ...  0.399378   \nCabin_C        0.401370    0.158043   -0.059151   -0.101861  ...  0.485974   \nCabin_D        0.072737    0.107782   -0.061459   -0.056023  ...  0.275698   \nCabin_E        0.073949    0.027566   -0.042877    0.002960  ...  0.242963   \nCabin_F       -0.037567   -0.020010   -0.020282    0.030575  ... -0.073083   \nCabin_G       -0.022857   -0.031566   -0.019941    0.040560  ... -0.035441   \nCabin_T        0.001179   -0.014095   -0.008904    0.018111  ...  0.048310   \nCabin_U       -0.507197   -0.258257    0.142369    0.137351  ... -0.776987   \nPclass_1       0.599956    0.325722   -0.166101   -0.181800  ...  1.000000   \nPclass_2      -0.121372   -0.134675   -0.121973    0.196532  ... -0.296526   \nPclass_3      -0.419616   -0.171430    0.243706   -0.003805  ... -0.622172   \ntitle_Master   0.011596   -0.014172   -0.009091    0.018297  ... -0.084504   \ntitle_Miss     0.092051   -0.014351    0.198804   -0.113886  ... -0.011733   \ntitle_Mr      -0.192192   -0.065538   -0.080224    0.108924  ... -0.099725   \ntitle_Mrs      0.139235    0.098379   -0.100374   -0.022950  ...  0.141102   \ntitle_Officer  0.028696    0.003678   -0.003212   -0.001202  ...  0.098788   \ntitle_Royalty  0.026214    0.077213   -0.021853   -0.054250  ...  0.118561   \nfamily         0.226465   -0.036553   -0.087190    0.087771  ... -0.029656   \n\n               Pclass_2  Pclass_3  title_Master  title_Miss  title_Mr  \\\nPassengerId    0.022714 -0.041544      0.002254   -0.050027  0.014116   \nSurvived       0.093349 -0.322308      0.085221    0.332795 -0.549199   \nSex           -0.028862  0.116562      0.164375   -0.672819  0.870678   \nAge           -0.014193 -0.302093     -0.363923   -0.254146  0.165476   \nSibSp         -0.052419  0.072610      0.329171    0.077564 -0.243104   \nParch         -0.010057  0.019521      0.253482    0.066473 -0.304780   \nFare          -0.121372 -0.419616      0.011596    0.092051 -0.192192   \nEmbarked_C    -0.134675 -0.171430     -0.014172   -0.014351 -0.065538   \nEmbarked_Q    -0.121973  0.243706     -0.009091    0.198804 -0.080224   \nEmbarked_S     0.196532 -0.003805      0.018297   -0.113886  0.108924   \nCabin_A       -0.067736 -0.142125     -0.000711   -0.035697  0.015372   \nCabin_B       -0.118426 -0.248481     -0.017168    0.035069 -0.096776   \nCabin_C       -0.144104 -0.302359     -0.047456   -0.013418 -0.068072   \nCabin_D       -0.037929 -0.207455     -0.042192   -0.012516 -0.030261   \nCabin_E       -0.050210 -0.169063      0.001860    0.008700 -0.032953   \nCabin_F        0.127371 -0.041178      0.058311   -0.003088 -0.026403   \nCabin_G       -0.032081  0.056964     -0.013690    0.061881 -0.072514   \nCabin_T       -0.014325 -0.030057     -0.006113   -0.013832  0.023611   \nCabin_U        0.176485  0.527614      0.041178   -0.004364  0.131807   \nPclass_1      -0.296526 -0.622172     -0.084504   -0.011733 -0.099725   \nPclass_2       1.000000 -0.563180     -0.016933   -0.025440 -0.038595   \nPclass_3      -0.563180  1.000000      0.086998    0.031007  0.117925   \ntitle_Master  -0.016933  0.086998      1.000000   -0.110595 -0.258902   \ntitle_Miss    -0.025440  0.031007     -0.110595    1.000000 -0.585809   \ntitle_Mr      -0.038595  0.117925     -0.258902   -0.585809  1.000000   \ntitle_Mrs      0.071103 -0.180375     -0.093887   -0.212435 -0.497310   \ntitle_Officer  0.073070 -0.145375     -0.029567   -0.066899 -0.156611   \ntitle_Royalty -0.035156 -0.073765     -0.015002   -0.033945 -0.079466   \nfamily        -0.039976  0.058430      0.355061    0.087350 -0.326487   \n\n               title_Mrs  title_Officer  title_Royalty    family  \nPassengerId     0.033299       0.002231       0.004400 -0.031437  \nSurvived        0.344935      -0.031316       0.033391  0.016639  \nSex            -0.571176       0.087288      -0.020408 -0.188583  \nAge             0.198091       0.162818       0.059466 -0.196996  \nSibSp           0.061643      -0.013813      -0.010787  0.861952  \nParch           0.213491      -0.032631      -0.030197  0.792296  \nFare            0.139235       0.028696       0.026214  0.226465  \nEmbarked_C      0.098379       0.003678       0.077213 -0.036553  \nEmbarked_Q     -0.100374      -0.003212      -0.021853 -0.087190  \nEmbarked_S     -0.022950      -0.001202      -0.054250  0.087771  \nCabin_A        -0.039005       0.072981       0.167091 -0.042967  \nCabin_B         0.078868       0.049729       0.036551  0.032318  \nCabin_C         0.112164       0.052889       0.024932  0.037226  \nCabin_D         0.080393       0.006055      -0.012950 -0.025313  \nCabin_E         0.045538      -0.024048      -0.012202 -0.017285  \nCabin_F         0.013376      -0.017076      -0.008665  0.005525  \nCabin_G         0.042547      -0.008281      -0.004202  0.035835  \nCabin_T        -0.011742      -0.003698      -0.001876 -0.015438  \nCabin_U        -0.162253      -0.067030      -0.071672 -0.014155  \nPclass_1        0.141102       0.098788       0.118561 -0.029656  \nPclass_2        0.071103       0.073070      -0.035156 -0.039976  \nPclass_3       -0.180375      -0.145375      -0.073765  0.058430  \ntitle_Master   -0.093887      -0.029567      -0.015002  0.355061  \ntitle_Miss     -0.212435      -0.066899      -0.033945  0.087350  \ntitle_Mr       -0.497310      -0.156611      -0.079466 -0.326487  \ntitle_Mrs       1.000000      -0.056793      -0.028817  0.157233  \ntitle_Officer  -0.056793       1.000000      -0.009075 -0.026921  \ntitle_Royalty  -0.028817      -0.009075       1.000000 -0.023600  \nfamily          0.157233      -0.026921      -0.023600  1.000000  \n\n[29 rows x 29 columns]",
      "text/html": "<div>\n<style scoped>\n    .dataframe tbody tr th:only-of-type {\n        vertical-align: middle;\n    }\n\n    .dataframe tbody tr th {\n        vertical-align: top;\n    }\n\n    .dataframe thead th {\n        text-align: right;\n    }\n</style>\n<table border=\"1\" class=\"dataframe\">\n  <thead>\n    <tr style=\"text-align: right;\">\n      <th></th>\n      <th>PassengerId</th>\n      <th>Survived</th>\n      <th>Sex</th>\n      <th>Age</th>\n      <th>SibSp</th>\n      <th>Parch</th>\n      <th>Fare</th>\n      <th>Embarked_C</th>\n      <th>Embarked_Q</th>\n      <th>Embarked_S</th>\n      <th>...</th>\n      <th>Pclass_1</th>\n      <th>Pclass_2</th>\n      <th>Pclass_3</th>\n      <th>title_Master</th>\n      <th>title_Miss</th>\n      <th>title_Mr</th>\n      <th>title_Mrs</th>\n      <th>title_Officer</th>\n      <th>title_Royalty</th>\n      <th>family</th>\n    </tr>\n  </thead>\n  <tbody>\n    <tr>\n      <th>PassengerId</th>\n      <td>1.000000</td>\n      <td>-0.005007</td>\n      <td>0.013406</td>\n      <td>0.025731</td>\n      <td>-0.055224</td>\n      <td>0.008942</td>\n      <td>0.031416</td>\n      <td>0.048101</td>\n      <td>0.011585</td>\n      <td>-0.049836</td>\n      <td>...</td>\n      <td>0.026495</td>\n      <td>0.022714</td>\n      <td>-0.041544</td>\n      <td>0.002254</td>\n      <td>-0.050027</td>\n      <td>0.014116</td>\n      <td>0.033299</td>\n      <td>0.002231</td>\n      <td>0.004400</td>\n      <td>-0.031437</td>\n    </tr>\n    <tr>\n      <th>Survived</th>\n      <td>-0.005007</td>\n      <td>1.000000</td>\n      <td>-0.543351</td>\n      <td>-0.070323</td>\n      <td>-0.035322</td>\n      <td>0.081629</td>\n      <td>0.257307</td>\n      <td>0.168240</td>\n      <td>0.003650</td>\n      <td>-0.149683</td>\n      <td>...</td>\n      <td>0.285904</td>\n      <td>0.093349</td>\n      <td>-0.322308</td>\n      <td>0.085221</td>\n      <td>0.332795</td>\n      <td>-0.549199</td>\n      <td>0.344935</td>\n      <td>-0.031316</td>\n      <td>0.033391</td>\n      <td>0.016639</td>\n    </tr>\n    <tr>\n      <th>Sex</th>\n      <td>0.013406</td>\n      <td>-0.543351</td>\n      <td>1.000000</td>\n      <td>0.057397</td>\n      <td>-0.109609</td>\n      <td>-0.213125</td>\n      <td>-0.185484</td>\n      <td>-0.066564</td>\n      <td>-0.088651</td>\n      <td>0.115193</td>\n      <td>...</td>\n      <td>-0.107371</td>\n      <td>-0.028862</td>\n      <td>0.116562</td>\n      <td>0.164375</td>\n      <td>-0.672819</td>\n      <td>0.870678</td>\n      <td>-0.571176</td>\n      <td>0.087288</td>\n      <td>-0.020408</td>\n      <td>-0.188583</td>\n    </tr>\n    <tr>\n      <th>Age</th>\n      <td>0.025731</td>\n      <td>-0.070323</td>\n      <td>0.057397</td>\n      <td>1.000000</td>\n      <td>-0.190747</td>\n      <td>-0.130872</td>\n      <td>0.171521</td>\n      <td>0.076179</td>\n      <td>-0.012718</td>\n      <td>-0.059153</td>\n      <td>...</td>\n      <td>0.362587</td>\n      <td>-0.014193</td>\n      <td>-0.302093</td>\n      <td>-0.363923</td>\n      <td>-0.254146</td>\n      <td>0.165476</td>\n      <td>0.198091</td>\n      <td>0.162818</td>\n      <td>0.059466</td>\n      <td>-0.196996</td>\n    </tr>\n    <tr>\n      <th>SibSp</th>\n      <td>-0.055224</td>\n      <td>-0.035322</td>\n      <td>-0.109609</td>\n      <td>-0.190747</td>\n      <td>1.000000</td>\n      <td>0.373587</td>\n      <td>0.160224</td>\n      <td>-0.048396</td>\n      <td>-0.048678</td>\n      <td>0.073709</td>\n      <td>...</td>\n      <td>-0.034256</td>\n      <td>-0.052419</td>\n      <td>0.072610</td>\n      <td>0.329171</td>\n      <td>0.077564</td>\n      <td>-0.243104</td>\n      <td>0.061643</td>\n      <td>-0.013813</td>\n      <td>-0.010787</td>\n      <td>0.861952</td>\n    </tr>\n    <tr>\n      <th>Parch</th>\n      <td>0.008942</td>\n      <td>0.081629</td>\n      <td>-0.213125</td>\n      <td>-0.130872</td>\n      <td>0.373587</td>\n      <td>1.000000</td>\n      <td>0.221522</td>\n      <td>-0.008635</td>\n      <td>-0.100943</td>\n      <td>0.071881</td>\n      <td>...</td>\n      <td>-0.013033</td>\n      <td>-0.010057</td>\n      <td>0.019521</td>\n      <td>0.253482</td>\n      <td>0.066473</td>\n      <td>-0.304780</td>\n      <td>0.213491</td>\n      <td>-0.032631</td>\n      <td>-0.030197</td>\n      <td>0.792296</td>\n    </tr>\n    <tr>\n      <th>Fare</th>\n      <td>0.031416</td>\n      <td>0.257307</td>\n      <td>-0.185484</td>\n      <td>0.171521</td>\n      <td>0.160224</td>\n      <td>0.221522</td>\n      <td>1.000000</td>\n      <td>0.286241</td>\n      <td>-0.130054</td>\n      <td>-0.169894</td>\n      <td>...</td>\n      <td>0.599956</td>\n      <td>-0.121372</td>\n      <td>-0.419616</td>\n      <td>0.011596</td>\n      <td>0.092051</td>\n      <td>-0.192192</td>\n      <td>0.139235</td>\n      <td>0.028696</td>\n      <td>0.026214</td>\n      <td>0.226465</td>\n    </tr>\n    <tr>\n      <th>Embarked_C</th>\n      <td>0.048101</td>\n      <td>0.168240</td>\n      <td>-0.066564</td>\n      <td>0.076179</td>\n      <td>-0.048396</td>\n      <td>-0.008635</td>\n      <td>0.286241</td>\n      <td>1.000000</td>\n      <td>-0.164166</td>\n      <td>-0.778262</td>\n      <td>...</td>\n      <td>0.325722</td>\n      <td>-0.134675</td>\n      <td>-0.171430</td>\n      <td>-0.014172</td>\n      <td>-0.014351</td>\n      <td>-0.065538</td>\n      <td>0.098379</td>\n      <td>0.003678</td>\n      <td>0.077213</td>\n      <td>-0.036553</td>\n    </tr>\n    <tr>\n      <th>Embarked_Q</th>\n      <td>0.011585</td>\n      <td>0.003650</td>\n      <td>-0.088651</td>\n      <td>-0.012718</td>\n      <td>-0.048678</td>\n      <td>-0.100943</td>\n      <td>-0.130054</td>\n      <td>-0.164166</td>\n      <td>1.000000</td>\n      <td>-0.491656</td>\n      <td>...</td>\n      <td>-0.166101</td>\n      <td>-0.121973</td>\n      <td>0.243706</td>\n      <td>-0.009091</td>\n      <td>0.198804</td>\n      <td>-0.080224</td>\n      <td>-0.100374</td>\n      <td>-0.003212</td>\n      <td>-0.021853</td>\n      <td>-0.087190</td>\n    </tr>\n    <tr>\n      <th>Embarked_S</th>\n      <td>-0.049836</td>\n      <td>-0.149683</td>\n      <td>0.115193</td>\n      <td>-0.059153</td>\n      <td>0.073709</td>\n      <td>0.071881</td>\n      <td>-0.169894</td>\n      <td>-0.778262</td>\n      <td>-0.491656</td>\n      <td>1.000000</td>\n      <td>...</td>\n      <td>-0.181800</td>\n      <td>0.196532</td>\n      <td>-0.003805</td>\n      <td>0.018297</td>\n      <td>-0.113886</td>\n      <td>0.108924</td>\n      <td>-0.022950</td>\n      <td>-0.001202</td>\n      <td>-0.054250</td>\n      <td>0.087771</td>\n    </tr>\n    <tr>\n      <th>Cabin_A</th>\n      <td>-0.002831</td>\n      <td>0.022287</td>\n      <td>0.047561</td>\n      <td>0.125177</td>\n      <td>-0.039808</td>\n      <td>-0.030707</td>\n      <td>0.020094</td>\n      <td>0.094914</td>\n      <td>-0.042105</td>\n      <td>-0.056984</td>\n      <td>...</td>\n      <td>0.228433</td>\n      <td>-0.067736</td>\n      <td>-0.142125</td>\n      <td>-0.000711</td>\n      <td>-0.035697</td>\n      <td>0.015372</td>\n      <td>-0.039005</td>\n      <td>0.072981</td>\n      <td>0.167091</td>\n      <td>-0.042967</td>\n    </tr>\n    <tr>\n      <th>Cabin_B</th>\n      <td>0.015895</td>\n      <td>0.175095</td>\n      <td>-0.094453</td>\n      <td>0.113458</td>\n      <td>-0.011569</td>\n      <td>0.073051</td>\n      <td>0.393743</td>\n      <td>0.161595</td>\n      <td>-0.073613</td>\n      <td>-0.095790</td>\n      <td>...</td>\n      <td>0.399378</td>\n      <td>-0.118426</td>\n      <td>-0.248481</td>\n      <td>-0.017168</td>\n      <td>0.035069</td>\n      <td>-0.096776</td>\n      <td>0.078868</td>\n      <td>0.049729</td>\n      <td>0.036551</td>\n      <td>0.032318</td>\n    </tr>\n    <tr>\n      <th>Cabin_C</th>\n      <td>0.006092</td>\n      <td>0.114652</td>\n      <td>-0.077473</td>\n      <td>0.167993</td>\n      <td>0.048616</td>\n      <td>0.009601</td>\n      <td>0.401370</td>\n      <td>0.158043</td>\n      <td>-0.059151</td>\n      <td>-0.101861</td>\n      <td>...</td>\n      <td>0.485974</td>\n      <td>-0.144104</td>\n      <td>-0.302359</td>\n      <td>-0.047456</td>\n      <td>-0.013418</td>\n      <td>-0.068072</td>\n      <td>0.112164</td>\n      <td>0.052889</td>\n      <td>0.024932</td>\n      <td>0.037226</td>\n    </tr>\n    <tr>\n      <th>Cabin_D</th>\n      <td>0.000549</td>\n      <td>0.150716</td>\n      <td>-0.057396</td>\n      <td>0.132886</td>\n      <td>-0.015727</td>\n      <td>-0.027385</td>\n      <td>0.072737</td>\n      <td>0.107782</td>\n      <td>-0.061459</td>\n      <td>-0.056023</td>\n      <td>...</td>\n      <td>0.275698</td>\n      <td>-0.037929</td>\n      <td>-0.207455</td>\n      <td>-0.042192</td>\n      <td>-0.012516</td>\n      <td>-0.030261</td>\n      <td>0.080393</td>\n      <td>0.006055</td>\n      <td>-0.012950</td>\n      <td>-0.025313</td>\n    </tr>\n    <tr>\n      <th>Cabin_E</th>\n      <td>-0.008136</td>\n      <td>0.145321</td>\n      <td>-0.040340</td>\n      <td>0.106600</td>\n      <td>-0.027180</td>\n      <td>0.001084</td>\n      <td>0.073949</td>\n      <td>0.027566</td>\n      <td>-0.042877</td>\n      <td>0.002960</td>\n      <td>...</td>\n      <td>0.242963</td>\n      <td>-0.050210</td>\n      <td>-0.169063</td>\n      <td>0.001860</td>\n      <td>0.008700</td>\n      <td>-0.032953</td>\n      <td>0.045538</td>\n      <td>-0.024048</td>\n      <td>-0.012202</td>\n      <td>-0.017285</td>\n    </tr>\n    <tr>\n      <th>Cabin_F</th>\n      <td>0.000306</td>\n      <td>0.057935</td>\n      <td>-0.006655</td>\n      <td>-0.072644</td>\n      <td>-0.008619</td>\n      <td>0.020481</td>\n      <td>-0.037567</td>\n      <td>-0.020010</td>\n      <td>-0.020282</td>\n      <td>0.030575</td>\n      <td>...</td>\n      <td>-0.073083</td>\n      <td>0.127371</td>\n      <td>-0.041178</td>\n      <td>0.058311</td>\n      <td>-0.003088</td>\n      <td>-0.026403</td>\n      <td>0.013376</td>\n      <td>-0.017076</td>\n      <td>-0.008665</td>\n      <td>0.005525</td>\n    </tr>\n    <tr>\n      <th>Cabin_G</th>\n      <td>-0.045949</td>\n      <td>0.016040</td>\n      <td>-0.083285</td>\n      <td>-0.085977</td>\n      <td>0.006015</td>\n      <td>0.058325</td>\n      <td>-0.022857</td>\n      <td>-0.031566</td>\n      <td>-0.019941</td>\n      <td>0.040560</td>\n      <td>...</td>\n      <td>-0.035441</td>\n      <td>-0.032081</td>\n      <td>0.056964</td>\n      <td>-0.013690</td>\n      <td>0.061881</td>\n      <td>-0.072514</td>\n      <td>0.042547</td>\n      <td>-0.008281</td>\n      <td>-0.004202</td>\n      <td>0.035835</td>\n    </tr>\n    <tr>\n      <th>Cabin_T</th>\n      <td>-0.023049</td>\n      <td>-0.026456</td>\n      <td>0.020558</td>\n      <td>0.032461</td>\n      <td>-0.013247</td>\n      <td>-0.012304</td>\n      <td>0.001179</td>\n      <td>-0.014095</td>\n      <td>-0.008904</td>\n      <td>0.018111</td>\n      <td>...</td>\n      <td>0.048310</td>\n      <td>-0.014325</td>\n      <td>-0.030057</td>\n      <td>-0.006113</td>\n      <td>-0.013832</td>\n      <td>0.023611</td>\n      <td>-0.011742</td>\n      <td>-0.003698</td>\n      <td>-0.001876</td>\n      <td>-0.015438</td>\n    </tr>\n    <tr>\n      <th>Cabin_U</th>\n      <td>0.000208</td>\n      <td>-0.316912</td>\n      <td>0.137396</td>\n      <td>-0.271918</td>\n      <td>0.009064</td>\n      <td>-0.036806</td>\n      <td>-0.507197</td>\n      <td>-0.258257</td>\n      <td>0.142369</td>\n      <td>0.137351</td>\n      <td>...</td>\n      <td>-0.776987</td>\n      <td>0.176485</td>\n      <td>0.527614</td>\n      <td>0.041178</td>\n      <td>-0.004364</td>\n      <td>0.131807</td>\n      <td>-0.162253</td>\n      <td>-0.067030</td>\n      <td>-0.071672</td>\n      <td>-0.014155</td>\n    </tr>\n    <tr>\n      <th>Pclass_1</th>\n      <td>0.026495</td>\n      <td>0.285904</td>\n      <td>-0.107371</td>\n      <td>0.362587</td>\n      <td>-0.034256</td>\n      <td>-0.013033</td>\n      <td>0.599956</td>\n      <td>0.325722</td>\n      <td>-0.166101</td>\n      <td>-0.181800</td>\n      <td>...</td>\n      <td>1.000000</td>\n      <td>-0.296526</td>\n      <td>-0.622172</td>\n      <td>-0.084504</td>\n      <td>-0.011733</td>\n      <td>-0.099725</td>\n      <td>0.141102</td>\n      <td>0.098788</td>\n      <td>0.118561</td>\n      <td>-0.029656</td>\n    </tr>\n    <tr>\n      <th>Pclass_2</th>\n      <td>0.022714</td>\n      <td>0.093349</td>\n      <td>-0.028862</td>\n      <td>-0.014193</td>\n      <td>-0.052419</td>\n      <td>-0.010057</td>\n      <td>-0.121372</td>\n      <td>-0.134675</td>\n      <td>-0.121973</td>\n      <td>0.196532</td>\n      <td>...</td>\n      <td>-0.296526</td>\n      <td>1.000000</td>\n      <td>-0.563180</td>\n      <td>-0.016933</td>\n      <td>-0.025440</td>\n      <td>-0.038595</td>\n      <td>0.071103</td>\n      <td>0.073070</td>\n      <td>-0.035156</td>\n      <td>-0.039976</td>\n    </tr>\n    <tr>\n      <th>Pclass_3</th>\n      <td>-0.041544</td>\n      <td>-0.322308</td>\n      <td>0.116562</td>\n      <td>-0.302093</td>\n      <td>0.072610</td>\n      <td>0.019521</td>\n      <td>-0.419616</td>\n      <td>-0.171430</td>\n      <td>0.243706</td>\n      <td>-0.003805</td>\n      <td>...</td>\n      <td>-0.622172</td>\n      <td>-0.563180</td>\n      <td>1.000000</td>\n      <td>0.086998</td>\n      <td>0.031007</td>\n      <td>0.117925</td>\n      <td>-0.180375</td>\n      <td>-0.145375</td>\n      <td>-0.073765</td>\n      <td>0.058430</td>\n    </tr>\n    <tr>\n      <th>title_Master</th>\n      <td>0.002254</td>\n      <td>0.085221</td>\n      <td>0.164375</td>\n      <td>-0.363923</td>\n      <td>0.329171</td>\n      <td>0.253482</td>\n      <td>0.011596</td>\n      <td>-0.014172</td>\n      <td>-0.009091</td>\n      <td>0.018297</td>\n      <td>...</td>\n      <td>-0.084504</td>\n      <td>-0.016933</td>\n      <td>0.086998</td>\n      <td>1.000000</td>\n      <td>-0.110595</td>\n      <td>-0.258902</td>\n      <td>-0.093887</td>\n      <td>-0.029567</td>\n      <td>-0.015002</td>\n      <td>0.355061</td>\n    </tr>\n    <tr>\n      <th>title_Miss</th>\n      <td>-0.050027</td>\n      <td>0.332795</td>\n      <td>-0.672819</td>\n      <td>-0.254146</td>\n      <td>0.077564</td>\n      <td>0.066473</td>\n      <td>0.092051</td>\n      <td>-0.014351</td>\n      <td>0.198804</td>\n      <td>-0.113886</td>\n      <td>...</td>\n      <td>-0.011733</td>\n      <td>-0.025440</td>\n      <td>0.031007</td>\n      <td>-0.110595</td>\n      <td>1.000000</td>\n      <td>-0.585809</td>\n      <td>-0.212435</td>\n      <td>-0.066899</td>\n      <td>-0.033945</td>\n      <td>0.087350</td>\n    </tr>\n    <tr>\n      <th>title_Mr</th>\n      <td>0.014116</td>\n      <td>-0.549199</td>\n      <td>0.870678</td>\n      <td>0.165476</td>\n      <td>-0.243104</td>\n      <td>-0.304780</td>\n      <td>-0.192192</td>\n      <td>-0.065538</td>\n      <td>-0.080224</td>\n      <td>0.108924</td>\n      <td>...</td>\n      <td>-0.099725</td>\n      <td>-0.038595</td>\n      <td>0.117925</td>\n      <td>-0.258902</td>\n      <td>-0.585809</td>\n      <td>1.000000</td>\n      <td>-0.497310</td>\n      <td>-0.156611</td>\n      <td>-0.079466</td>\n      <td>-0.326487</td>\n    </tr>\n    <tr>\n      <th>title_Mrs</th>\n      <td>0.033299</td>\n      <td>0.344935</td>\n      <td>-0.571176</td>\n      <td>0.198091</td>\n      <td>0.061643</td>\n      <td>0.213491</td>\n      <td>0.139235</td>\n      <td>0.098379</td>\n      <td>-0.100374</td>\n      <td>-0.022950</td>\n      <td>...</td>\n      <td>0.141102</td>\n      <td>0.071103</td>\n      <td>-0.180375</td>\n      <td>-0.093887</td>\n      <td>-0.212435</td>\n      <td>-0.497310</td>\n      <td>1.000000</td>\n      <td>-0.056793</td>\n      <td>-0.028817</td>\n      <td>0.157233</td>\n    </tr>\n    <tr>\n      <th>title_Officer</th>\n      <td>0.002231</td>\n      <td>-0.031316</td>\n      <td>0.087288</td>\n      <td>0.162818</td>\n      <td>-0.013813</td>\n      <td>-0.032631</td>\n      <td>0.028696</td>\n      <td>0.003678</td>\n      <td>-0.003212</td>\n      <td>-0.001202</td>\n      <td>...</td>\n      <td>0.098788</td>\n      <td>0.073070</td>\n      <td>-0.145375</td>\n      <td>-0.029567</td>\n      <td>-0.066899</td>\n      <td>-0.156611</td>\n      <td>-0.056793</td>\n      <td>1.000000</td>\n      <td>-0.009075</td>\n      <td>-0.026921</td>\n    </tr>\n    <tr>\n      <th>title_Royalty</th>\n      <td>0.004400</td>\n      <td>0.033391</td>\n      <td>-0.020408</td>\n      <td>0.059466</td>\n      <td>-0.010787</td>\n      <td>-0.030197</td>\n      <td>0.026214</td>\n      <td>0.077213</td>\n      <td>-0.021853</td>\n      <td>-0.054250</td>\n      <td>...</td>\n      <td>0.118561</td>\n      <td>-0.035156</td>\n      <td>-0.073765</td>\n      <td>-0.015002</td>\n      <td>-0.033945</td>\n      <td>-0.079466</td>\n      <td>-0.028817</td>\n      <td>-0.009075</td>\n      <td>1.000000</td>\n      <td>-0.023600</td>\n    </tr>\n    <tr>\n      <th>family</th>\n      <td>-0.031437</td>\n      <td>0.016639</td>\n      <td>-0.188583</td>\n      <td>-0.196996</td>\n      <td>0.861952</td>\n      <td>0.792296</td>\n      <td>0.226465</td>\n      <td>-0.036553</td>\n      <td>-0.087190</td>\n      <td>0.087771</td>\n      <td>...</td>\n      <td>-0.029656</td>\n      <td>-0.039976</td>\n      <td>0.058430</td>\n      <td>0.355061</td>\n      <td>0.087350</td>\n      <td>-0.326487</td>\n      <td>0.157233</td>\n      <td>-0.026921</td>\n      <td>-0.023600</td>\n      <td>1.000000</td>\n    </tr>\n  </tbody>\n</table>\n<p>29 rows × 29 columns</p>\n</div>"
     },
     "execution_count": 100,
     "metadata": {},
     "output_type": "execute_result"
    }
   ],
   "source": [
    "corr = dataset.corr()\n",
    "corr"
   ],
   "metadata": {
    "collapsed": false,
    "pycharm": {
     "name": "#%%\n"
    }
   }
  },
  {
   "cell_type": "code",
   "execution_count": 101,
   "outputs": [
    {
     "data": {
      "text/plain": "<Figure size 1008x864 with 2 Axes>",
      "image/png": "[encoded data removed]"
     },
     "metadata": {
      "needs_background": "light"
     },
     "output_type": "display_data"
    }
   ],
   "source": [
    "plt.figure(figsize=(14,12))\n",
    "sns.heatmap(corr)\n",
    "plt.show()"
   ],
   "metadata": {
    "collapsed": false,
    "pycharm": {
     "name": "#%%\n"
    }
   }
  },
  {
   "cell_type": "code",
   "execution_count": 102,
   "outputs": [],
   "source": [
    "predictors = ['Sex','Age', 'Fare', 'title_Miss', 'title_Mr', 'title_Mrs', 'Pclass_1']"
   ],
   "metadata": {
    "collapsed": false,
    "pycharm": {
     "name": "#%%\n"
    }
   }
  },
  {
   "cell_type": "code",
   "execution_count": 103,
   "outputs": [],
   "source": [
    "from sklearn.linear_model import LogisticRegression\n",
    "model = LogisticRegression()"
   ],
   "metadata": {
    "collapsed": false,
    "pycharm": {
     "name": "#%%\n"
    }
   }
  },
  {
   "cell_type": "code",
   "execution_count": 104,
   "outputs": [
    {
     "name": "stderr",
     "output_type": "stream",
     "text": [
      "/usr/local/lib/python3.9/site-packages/sklearn/linear_model/_logistic.py:814: ConvergenceWarning: lbfgs failed to converge (status=1):\n",
      "STOP: TOTAL NO. of ITERATIONS REACHED LIMIT.\n",
      "\n",
      "Increase the number of iterations (max_iter) or scale the data as shown in:\n",
      "    https://scikit-learn.org/stable/modules/preprocessing.html\n",
      "Please also refer to the documentation for alternative solver options:\n",
      "    https://scikit-learn.org/stable/modules/linear_model.html#logistic-regression\n",
      "  n_iter_i = _check_optimize_result(\n"
     ]
    },
    {
     "data": {
      "text/plain": "LogisticRegression()"
     },
     "execution_count": 104,
     "metadata": {},
     "output_type": "execute_result"
    }
   ],
   "source": [
    "model.fit(x_train[predictors].iloc[0:-100,:],y_train.iloc[0:-100])"
   ],
   "metadata": {
    "collapsed": false,
    "pycharm": {
     "name": "#%%\n"
    }
   }
  },
  {
   "cell_type": "code",
   "execution_count": 105,
   "outputs": [
    {
     "data": {
      "text/plain": "0.77"
     },
     "execution_count": 105,
     "metadata": {},
     "output_type": "execute_result"
    }
   ],
   "source": [
    "from sklearn.metrics import accuracy_score\n",
    "accuracy_score(model.predict(x_train[predictors].iloc[-100:,:]),y_train.iloc[-100:].values.reshape(-1, 1))"
   ],
   "metadata": {
    "collapsed": false,
    "pycharm": {
     "name": "#%%\n"
    }
   }
  },
  {
   "cell_type": "code",
   "execution_count": 106,
   "outputs": [
    {
     "data": {
      "text/plain": "array([0., 0., 0., 0., 0., 1., 1., 0., 0., 0., 1., 1., 1., 1., 0., 0., 0.,\n       0., 1., 0., 0., 0., 0., 0., 0., 0., 0., 0., 0., 1., 1., 0., 1., 0.,\n       0., 0., 1., 1., 1., 1., 1., 0., 0., 0., 1., 0., 0., 1., 1., 0., 0.,\n       1., 0., 0., 0., 0., 0., 0., 1., 0., 0., 0., 1., 0., 1., 1., 1., 1.,\n       0., 0., 0., 1., 0., 0., 1., 1., 0., 0., 1., 0., 1., 0., 0., 1., 1.,\n       0., 0., 0., 1., 1., 0., 0., 0., 0., 0., 0., 1., 0., 1., 0.])"
     },
     "execution_count": 106,
     "metadata": {},
     "output_type": "execute_result"
    }
   ],
   "source": [
    "y_train.iloc[-100:].values"
   ],
   "metadata": {
    "collapsed": false,
    "pycharm": {
     "name": "#%%\n"
    }
   }
  },
  {
   "cell_type": "code",
   "execution_count": 107,
   "outputs": [
    {
     "data": {
      "text/plain": "array([[0.],\n       [0.],\n       [0.],\n       [0.],\n       [0.],\n       [1.],\n       [1.],\n       [0.],\n       [0.],\n       [0.],\n       [1.],\n       [1.],\n       [1.],\n       [1.],\n       [0.],\n       [0.],\n       [0.],\n       [0.],\n       [1.],\n       [0.],\n       [0.],\n       [0.],\n       [0.],\n       [0.],\n       [0.],\n       [0.],\n       [0.],\n       [0.],\n       [0.],\n       [1.],\n       [1.],\n       [0.],\n       [1.],\n       [0.],\n       [0.],\n       [0.],\n       [1.],\n       [1.],\n       [1.],\n       [1.],\n       [1.],\n       [0.],\n       [0.],\n       [0.],\n       [1.],\n       [0.],\n       [0.],\n       [1.],\n       [1.],\n       [0.],\n       [0.],\n       [1.],\n       [0.],\n       [0.],\n       [0.],\n       [0.],\n       [0.],\n       [0.],\n       [1.],\n       [0.],\n       [0.],\n       [0.],\n       [1.],\n       [0.],\n       [1.],\n       [1.],\n       [1.],\n       [1.],\n       [0.],\n       [0.],\n       [0.],\n       [1.],\n       [0.],\n       [0.],\n       [1.],\n       [1.],\n       [0.],\n       [0.],\n       [1.],\n       [0.],\n       [1.],\n       [0.],\n       [0.],\n       [1.],\n       [1.],\n       [0.],\n       [0.],\n       [0.],\n       [1.],\n       [1.],\n       [0.],\n       [0.],\n       [0.],\n       [0.],\n       [0.],\n       [0.],\n       [1.],\n       [0.],\n       [1.],\n       [0.]])"
     },
     "execution_count": 107,
     "metadata": {},
     "output_type": "execute_result"
    }
   ],
   "source": [
    "y_train.iloc[-100:].values.reshape(-1, 1)"
   ],
   "metadata": {
    "collapsed": false,
    "pycharm": {
     "name": "#%%\n"
    }
   }
  },
  {
   "cell_type": "code",
   "execution_count": 108,
   "outputs": [
    {
     "name": "stderr",
     "output_type": "stream",
     "text": [
      "/usr/local/lib/python3.9/site-packages/sklearn/linear_model/_logistic.py:814: ConvergenceWarning: lbfgs failed to converge (status=1):\n",
      "STOP: TOTAL NO. of ITERATIONS REACHED LIMIT.\n",
      "\n",
      "Increase the number of iterations (max_iter) or scale the data as shown in:\n",
      "    https://scikit-learn.org/stable/modules/preprocessing.html\n",
      "Please also refer to the documentation for alternative solver options:\n",
      "    https://scikit-learn.org/stable/modules/linear_model.html#logistic-regression\n",
      "  n_iter_i = _check_optimize_result(\n"
     ]
    },
    {
     "data": {
      "text/plain": "0.87"
     },
     "execution_count": 108,
     "metadata": {},
     "output_type": "execute_result"
    }
   ],
   "source": [
    "model2 = LogisticRegression()\n",
    "model2.fit(x_train.iloc[0:-100,:],y_train.iloc[0:-100])\n",
    "\n",
    "accuracy_score(model2.predict(x_train.iloc[-100:,:]),y_train.iloc[-100:].values)"
   ],
   "metadata": {
    "collapsed": false,
    "pycharm": {
     "name": "#%%\n"
    }
   }
  },
  {
   "cell_type": "code",
   "execution_count": 109,
   "outputs": [
    {
     "data": {
      "text/plain": "         variable  importance\n23       title_Mr    1.372093\n24      title_Mrs    1.112636\n18       Pclass_1    1.041311\n21   title_Master    0.901771\n1             Sex    0.792900\n22     title_Miss    0.727276\n6      Embarked_C    0.661260\n19       Pclass_2    0.610291\n13        Cabin_E    0.569682\n20       Pclass_3    0.556697\n3           SibSp    0.538977\n12        Cabin_D    0.468734\n4           Parch    0.408674\n17        Cabin_U    0.385840\n25  title_Officer    0.322664",
      "text/html": "<div>\n<style scoped>\n    .dataframe tbody tr th:only-of-type {\n        vertical-align: middle;\n    }\n\n    .dataframe tbody tr th {\n        vertical-align: top;\n    }\n\n    .dataframe thead th {\n        text-align: right;\n    }\n</style>\n<table border=\"1\" class=\"dataframe\">\n  <thead>\n    <tr style=\"text-align: right;\">\n      <th></th>\n      <th>variable</th>\n      <th>importance</th>\n    </tr>\n  </thead>\n  <tbody>\n    <tr>\n      <th>23</th>\n      <td>title_Mr</td>\n      <td>1.372093</td>\n    </tr>\n    <tr>\n      <th>24</th>\n      <td>title_Mrs</td>\n      <td>1.112636</td>\n    </tr>\n    <tr>\n      <th>18</th>\n      <td>Pclass_1</td>\n      <td>1.041311</td>\n    </tr>\n    <tr>\n      <th>21</th>\n      <td>title_Master</td>\n      <td>0.901771</td>\n    </tr>\n    <tr>\n      <th>1</th>\n      <td>Sex</td>\n      <td>0.792900</td>\n    </tr>\n    <tr>\n      <th>22</th>\n      <td>title_Miss</td>\n      <td>0.727276</td>\n    </tr>\n    <tr>\n      <th>6</th>\n      <td>Embarked_C</td>\n      <td>0.661260</td>\n    </tr>\n    <tr>\n      <th>19</th>\n      <td>Pclass_2</td>\n      <td>0.610291</td>\n    </tr>\n    <tr>\n      <th>13</th>\n      <td>Cabin_E</td>\n      <td>0.569682</td>\n    </tr>\n    <tr>\n      <th>20</th>\n      <td>Pclass_3</td>\n      <td>0.556697</td>\n    </tr>\n    <tr>\n      <th>3</th>\n      <td>SibSp</td>\n      <td>0.538977</td>\n    </tr>\n    <tr>\n      <th>12</th>\n      <td>Cabin_D</td>\n      <td>0.468734</td>\n    </tr>\n    <tr>\n      <th>4</th>\n      <td>Parch</td>\n      <td>0.408674</td>\n    </tr>\n    <tr>\n      <th>17</th>\n      <td>Cabin_U</td>\n      <td>0.385840</td>\n    </tr>\n    <tr>\n      <th>25</th>\n      <td>title_Officer</td>\n      <td>0.322664</td>\n    </tr>\n  </tbody>\n</table>\n</div>"
     },
     "execution_count": 109,
     "metadata": {},
     "output_type": "execute_result"
    }
   ],
   "source": [
    "# 输出前15重要的特征\n",
    "pd.concat((pd.DataFrame(x_train.columns, columns = ['variable']),\n",
    "           pd.DataFrame(abs(model2.coef_[0]), columns = ['importance'])),\n",
    "          axis = 1).sort_values(by='importance', ascending = False)[:15]\n",
    "\n",
    "# ['Sex','Age', 'Fare', 'title_Miss', 'title_Mr', 'title_Mrs', 'Pclass_1']"
   ],
   "metadata": {
    "collapsed": false,
    "pycharm": {
     "name": "#%%\n"
    }
   }
  },
  {
   "cell_type": "code",
   "execution_count": null,
   "outputs": [],
   "source": [],
   "metadata": {
    "collapsed": false,
    "pycharm": {
     "name": "#%%\n"
    }
   }
  }
 ],
 "metadata": {
  "kernelspec": {
   "display_name": "Python 3",
   "language": "python",
   "name": "python3"
  },
  "language_info": {
   "codemirror_mode": {
    "name": "ipython",
    "version": 2
   },
   "file_extension": ".py",
   "mimetype": "text/x-python",
   "name": "python",
   "nbconvert_exporter": "python",
   "pygments_lexer": "ipython2",
   "version": "2.7.6"
  }
 },
 "nbformat": 4,
 "nbformat_minor": 0
}